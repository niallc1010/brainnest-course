{
 "cells": [
  {
   "cell_type": "code",
   "execution_count": 1,
   "id": "c0e48da7",
   "metadata": {},
   "outputs": [],
   "source": [
    "import numpy as np\n",
    "import pandas as pd\n",
    "import matplotlib.pyplot as plt\n",
    "import scipy as sc\n",
    "import seaborn as sns\n",
    "\n",
    "%matplotlib inline\n",
    "plt.rcParams[\"figure.figsize\"] = (15,9)\n",
    "plt.rcParams[\"font.size\"] = 15"
   ]
  },
  {
   "cell_type": "code",
   "execution_count": 2,
   "id": "88ea64bb",
   "metadata": {},
   "outputs": [],
   "source": [
    "df = pd.read_spss(\"C:/Users/Niall/brainnest/Datasets/Birthweight_reduced_kg_SPSS.sav\")"
   ]
  },
  {
   "cell_type": "code",
   "execution_count": 3,
   "id": "7c673bea",
   "metadata": {},
   "outputs": [
    {
     "data": {
      "text/html": [
       "<div>\n",
       "<style scoped>\n",
       "    .dataframe tbody tr th:only-of-type {\n",
       "        vertical-align: middle;\n",
       "    }\n",
       "\n",
       "    .dataframe tbody tr th {\n",
       "        vertical-align: top;\n",
       "    }\n",
       "\n",
       "    .dataframe thead th {\n",
       "        text-align: right;\n",
       "    }\n",
       "</style>\n",
       "<table border=\"1\" class=\"dataframe\">\n",
       "  <thead>\n",
       "    <tr style=\"text-align: right;\">\n",
       "      <th></th>\n",
       "      <th>ID</th>\n",
       "      <th>Headcirc</th>\n",
       "      <th>Length</th>\n",
       "      <th>Birthweight</th>\n",
       "      <th>Gestation</th>\n",
       "      <th>mage</th>\n",
       "      <th>smoker</th>\n",
       "      <th>mheight</th>\n",
       "      <th>mppwt</th>\n",
       "      <th>fage</th>\n",
       "      <th>fedyrs</th>\n",
       "      <th>fnocig</th>\n",
       "      <th>fheight</th>\n",
       "      <th>lowbwt</th>\n",
       "      <th>mage35</th>\n",
       "      <th>mnocig</th>\n",
       "    </tr>\n",
       "  </thead>\n",
       "  <tbody>\n",
       "    <tr>\n",
       "      <th>0</th>\n",
       "      <td>1360.0</td>\n",
       "      <td>34.0</td>\n",
       "      <td>56.0</td>\n",
       "      <td>4.55</td>\n",
       "      <td>44.0</td>\n",
       "      <td>20.0</td>\n",
       "      <td>Non-smoker</td>\n",
       "      <td>162.0</td>\n",
       "      <td>57.0</td>\n",
       "      <td>23.0</td>\n",
       "      <td>10.0</td>\n",
       "      <td>35.0</td>\n",
       "      <td>179.0</td>\n",
       "      <td>Not low birthweight</td>\n",
       "      <td>Aged &lt; 35</td>\n",
       "      <td>0.0</td>\n",
       "    </tr>\n",
       "    <tr>\n",
       "      <th>1</th>\n",
       "      <td>1016.0</td>\n",
       "      <td>36.0</td>\n",
       "      <td>53.0</td>\n",
       "      <td>4.32</td>\n",
       "      <td>40.0</td>\n",
       "      <td>19.0</td>\n",
       "      <td>Non-smoker</td>\n",
       "      <td>171.0</td>\n",
       "      <td>62.0</td>\n",
       "      <td>19.0</td>\n",
       "      <td>12.0</td>\n",
       "      <td>0.0</td>\n",
       "      <td>183.0</td>\n",
       "      <td>Not low birthweight</td>\n",
       "      <td>Aged &lt; 35</td>\n",
       "      <td>0.0</td>\n",
       "    </tr>\n",
       "    <tr>\n",
       "      <th>2</th>\n",
       "      <td>462.0</td>\n",
       "      <td>39.0</td>\n",
       "      <td>58.0</td>\n",
       "      <td>4.10</td>\n",
       "      <td>41.0</td>\n",
       "      <td>35.0</td>\n",
       "      <td>Non-smoker</td>\n",
       "      <td>172.0</td>\n",
       "      <td>58.0</td>\n",
       "      <td>31.0</td>\n",
       "      <td>16.0</td>\n",
       "      <td>25.0</td>\n",
       "      <td>185.0</td>\n",
       "      <td>Not low birthweight</td>\n",
       "      <td>Aged 35+</td>\n",
       "      <td>0.0</td>\n",
       "    </tr>\n",
       "    <tr>\n",
       "      <th>3</th>\n",
       "      <td>1187.0</td>\n",
       "      <td>38.0</td>\n",
       "      <td>53.0</td>\n",
       "      <td>4.07</td>\n",
       "      <td>44.0</td>\n",
       "      <td>20.0</td>\n",
       "      <td>Non-smoker</td>\n",
       "      <td>174.0</td>\n",
       "      <td>68.0</td>\n",
       "      <td>26.0</td>\n",
       "      <td>14.0</td>\n",
       "      <td>25.0</td>\n",
       "      <td>189.0</td>\n",
       "      <td>Not low birthweight</td>\n",
       "      <td>Aged &lt; 35</td>\n",
       "      <td>0.0</td>\n",
       "    </tr>\n",
       "    <tr>\n",
       "      <th>4</th>\n",
       "      <td>553.0</td>\n",
       "      <td>37.0</td>\n",
       "      <td>54.0</td>\n",
       "      <td>3.94</td>\n",
       "      <td>42.0</td>\n",
       "      <td>24.0</td>\n",
       "      <td>Non-smoker</td>\n",
       "      <td>175.0</td>\n",
       "      <td>66.0</td>\n",
       "      <td>30.0</td>\n",
       "      <td>12.0</td>\n",
       "      <td>0.0</td>\n",
       "      <td>184.0</td>\n",
       "      <td>Not low birthweight</td>\n",
       "      <td>Aged &lt; 35</td>\n",
       "      <td>0.0</td>\n",
       "    </tr>\n",
       "    <tr>\n",
       "      <th>5</th>\n",
       "      <td>1636.0</td>\n",
       "      <td>38.0</td>\n",
       "      <td>51.0</td>\n",
       "      <td>3.93</td>\n",
       "      <td>38.0</td>\n",
       "      <td>29.0</td>\n",
       "      <td>Non-smoker</td>\n",
       "      <td>165.0</td>\n",
       "      <td>61.0</td>\n",
       "      <td>31.0</td>\n",
       "      <td>16.0</td>\n",
       "      <td>0.0</td>\n",
       "      <td>180.0</td>\n",
       "      <td>Not low birthweight</td>\n",
       "      <td>Aged &lt; 35</td>\n",
       "      <td>0.0</td>\n",
       "    </tr>\n",
       "    <tr>\n",
       "      <th>6</th>\n",
       "      <td>820.0</td>\n",
       "      <td>34.0</td>\n",
       "      <td>52.0</td>\n",
       "      <td>3.77</td>\n",
       "      <td>40.0</td>\n",
       "      <td>24.0</td>\n",
       "      <td>Non-smoker</td>\n",
       "      <td>157.0</td>\n",
       "      <td>50.0</td>\n",
       "      <td>31.0</td>\n",
       "      <td>16.0</td>\n",
       "      <td>0.0</td>\n",
       "      <td>173.0</td>\n",
       "      <td>Not low birthweight</td>\n",
       "      <td>Aged &lt; 35</td>\n",
       "      <td>0.0</td>\n",
       "    </tr>\n",
       "    <tr>\n",
       "      <th>7</th>\n",
       "      <td>1191.0</td>\n",
       "      <td>33.0</td>\n",
       "      <td>53.0</td>\n",
       "      <td>3.65</td>\n",
       "      <td>42.0</td>\n",
       "      <td>21.0</td>\n",
       "      <td>Non-smoker</td>\n",
       "      <td>165.0</td>\n",
       "      <td>61.0</td>\n",
       "      <td>21.0</td>\n",
       "      <td>10.0</td>\n",
       "      <td>25.0</td>\n",
       "      <td>185.0</td>\n",
       "      <td>Not low birthweight</td>\n",
       "      <td>Aged &lt; 35</td>\n",
       "      <td>0.0</td>\n",
       "    </tr>\n",
       "    <tr>\n",
       "      <th>8</th>\n",
       "      <td>1081.0</td>\n",
       "      <td>38.0</td>\n",
       "      <td>54.0</td>\n",
       "      <td>3.63</td>\n",
       "      <td>38.0</td>\n",
       "      <td>18.0</td>\n",
       "      <td>Non-smoker</td>\n",
       "      <td>172.0</td>\n",
       "      <td>50.0</td>\n",
       "      <td>20.0</td>\n",
       "      <td>12.0</td>\n",
       "      <td>7.0</td>\n",
       "      <td>172.0</td>\n",
       "      <td>Not low birthweight</td>\n",
       "      <td>Aged &lt; 35</td>\n",
       "      <td>0.0</td>\n",
       "    </tr>\n",
       "    <tr>\n",
       "      <th>9</th>\n",
       "      <td>822.0</td>\n",
       "      <td>35.0</td>\n",
       "      <td>50.0</td>\n",
       "      <td>3.42</td>\n",
       "      <td>38.0</td>\n",
       "      <td>20.0</td>\n",
       "      <td>Non-smoker</td>\n",
       "      <td>157.0</td>\n",
       "      <td>48.0</td>\n",
       "      <td>22.0</td>\n",
       "      <td>14.0</td>\n",
       "      <td>0.0</td>\n",
       "      <td>179.0</td>\n",
       "      <td>Not low birthweight</td>\n",
       "      <td>Aged &lt; 35</td>\n",
       "      <td>0.0</td>\n",
       "    </tr>\n",
       "    <tr>\n",
       "      <th>10</th>\n",
       "      <td>1683.0</td>\n",
       "      <td>33.0</td>\n",
       "      <td>53.0</td>\n",
       "      <td>3.35</td>\n",
       "      <td>41.0</td>\n",
       "      <td>27.0</td>\n",
       "      <td>Non-smoker</td>\n",
       "      <td>164.0</td>\n",
       "      <td>62.0</td>\n",
       "      <td>37.0</td>\n",
       "      <td>14.0</td>\n",
       "      <td>0.0</td>\n",
       "      <td>170.0</td>\n",
       "      <td>Not low birthweight</td>\n",
       "      <td>Aged &lt; 35</td>\n",
       "      <td>0.0</td>\n",
       "    </tr>\n",
       "    <tr>\n",
       "      <th>11</th>\n",
       "      <td>1088.0</td>\n",
       "      <td>36.0</td>\n",
       "      <td>51.0</td>\n",
       "      <td>3.27</td>\n",
       "      <td>40.0</td>\n",
       "      <td>24.0</td>\n",
       "      <td>Non-smoker</td>\n",
       "      <td>168.0</td>\n",
       "      <td>53.0</td>\n",
       "      <td>29.0</td>\n",
       "      <td>16.0</td>\n",
       "      <td>0.0</td>\n",
       "      <td>181.0</td>\n",
       "      <td>Not low birthweight</td>\n",
       "      <td>Aged &lt; 35</td>\n",
       "      <td>0.0</td>\n",
       "    </tr>\n",
       "    <tr>\n",
       "      <th>12</th>\n",
       "      <td>1107.0</td>\n",
       "      <td>36.0</td>\n",
       "      <td>52.0</td>\n",
       "      <td>3.23</td>\n",
       "      <td>38.0</td>\n",
       "      <td>31.0</td>\n",
       "      <td>Non-smoker</td>\n",
       "      <td>164.0</td>\n",
       "      <td>57.0</td>\n",
       "      <td>35.0</td>\n",
       "      <td>16.0</td>\n",
       "      <td>0.0</td>\n",
       "      <td>183.0</td>\n",
       "      <td>Not low birthweight</td>\n",
       "      <td>Aged &lt; 35</td>\n",
       "      <td>0.0</td>\n",
       "    </tr>\n",
       "    <tr>\n",
       "      <th>13</th>\n",
       "      <td>755.0</td>\n",
       "      <td>33.0</td>\n",
       "      <td>53.0</td>\n",
       "      <td>3.20</td>\n",
       "      <td>41.0</td>\n",
       "      <td>21.0</td>\n",
       "      <td>Non-smoker</td>\n",
       "      <td>155.0</td>\n",
       "      <td>55.0</td>\n",
       "      <td>25.0</td>\n",
       "      <td>14.0</td>\n",
       "      <td>25.0</td>\n",
       "      <td>183.0</td>\n",
       "      <td>Not low birthweight</td>\n",
       "      <td>Aged &lt; 35</td>\n",
       "      <td>0.0</td>\n",
       "    </tr>\n",
       "    <tr>\n",
       "      <th>14</th>\n",
       "      <td>1058.0</td>\n",
       "      <td>34.0</td>\n",
       "      <td>53.0</td>\n",
       "      <td>3.15</td>\n",
       "      <td>40.0</td>\n",
       "      <td>29.0</td>\n",
       "      <td>Non-smoker</td>\n",
       "      <td>167.0</td>\n",
       "      <td>60.0</td>\n",
       "      <td>30.0</td>\n",
       "      <td>16.0</td>\n",
       "      <td>25.0</td>\n",
       "      <td>182.0</td>\n",
       "      <td>Not low birthweight</td>\n",
       "      <td>Aged &lt; 35</td>\n",
       "      <td>0.0</td>\n",
       "    </tr>\n",
       "    <tr>\n",
       "      <th>15</th>\n",
       "      <td>321.0</td>\n",
       "      <td>33.0</td>\n",
       "      <td>48.0</td>\n",
       "      <td>3.11</td>\n",
       "      <td>37.0</td>\n",
       "      <td>28.0</td>\n",
       "      <td>Non-smoker</td>\n",
       "      <td>158.0</td>\n",
       "      <td>54.0</td>\n",
       "      <td>39.0</td>\n",
       "      <td>10.0</td>\n",
       "      <td>0.0</td>\n",
       "      <td>171.0</td>\n",
       "      <td>Not low birthweight</td>\n",
       "      <td>Aged &lt; 35</td>\n",
       "      <td>0.0</td>\n",
       "    </tr>\n",
       "    <tr>\n",
       "      <th>16</th>\n",
       "      <td>697.0</td>\n",
       "      <td>35.0</td>\n",
       "      <td>48.0</td>\n",
       "      <td>3.03</td>\n",
       "      <td>39.0</td>\n",
       "      <td>27.0</td>\n",
       "      <td>Non-smoker</td>\n",
       "      <td>162.0</td>\n",
       "      <td>62.0</td>\n",
       "      <td>27.0</td>\n",
       "      <td>14.0</td>\n",
       "      <td>0.0</td>\n",
       "      <td>178.0</td>\n",
       "      <td>Not low birthweight</td>\n",
       "      <td>Aged &lt; 35</td>\n",
       "      <td>0.0</td>\n",
       "    </tr>\n",
       "    <tr>\n",
       "      <th>17</th>\n",
       "      <td>808.0</td>\n",
       "      <td>33.0</td>\n",
       "      <td>48.0</td>\n",
       "      <td>2.92</td>\n",
       "      <td>34.0</td>\n",
       "      <td>26.0</td>\n",
       "      <td>Non-smoker</td>\n",
       "      <td>167.0</td>\n",
       "      <td>64.0</td>\n",
       "      <td>25.0</td>\n",
       "      <td>12.0</td>\n",
       "      <td>25.0</td>\n",
       "      <td>175.0</td>\n",
       "      <td>Not low birthweight</td>\n",
       "      <td>Aged &lt; 35</td>\n",
       "      <td>0.0</td>\n",
       "    </tr>\n",
       "    <tr>\n",
       "      <th>18</th>\n",
       "      <td>1600.0</td>\n",
       "      <td>34.0</td>\n",
       "      <td>53.0</td>\n",
       "      <td>2.90</td>\n",
       "      <td>39.0</td>\n",
       "      <td>19.0</td>\n",
       "      <td>Non-smoker</td>\n",
       "      <td>165.0</td>\n",
       "      <td>57.0</td>\n",
       "      <td>23.0</td>\n",
       "      <td>14.0</td>\n",
       "      <td>2.0</td>\n",
       "      <td>193.0</td>\n",
       "      <td>Not low birthweight</td>\n",
       "      <td>Aged &lt; 35</td>\n",
       "      <td>0.0</td>\n",
       "    </tr>\n",
       "    <tr>\n",
       "      <th>19</th>\n",
       "      <td>1313.0</td>\n",
       "      <td>32.0</td>\n",
       "      <td>43.0</td>\n",
       "      <td>2.65</td>\n",
       "      <td>33.0</td>\n",
       "      <td>24.0</td>\n",
       "      <td>Non-smoker</td>\n",
       "      <td>149.0</td>\n",
       "      <td>45.0</td>\n",
       "      <td>26.0</td>\n",
       "      <td>16.0</td>\n",
       "      <td>0.0</td>\n",
       "      <td>169.0</td>\n",
       "      <td>Low birthweight</td>\n",
       "      <td>Aged &lt; 35</td>\n",
       "      <td>0.0</td>\n",
       "    </tr>\n",
       "    <tr>\n",
       "      <th>20</th>\n",
       "      <td>792.0</td>\n",
       "      <td>38.0</td>\n",
       "      <td>53.0</td>\n",
       "      <td>3.64</td>\n",
       "      <td>40.0</td>\n",
       "      <td>20.0</td>\n",
       "      <td>Smoker</td>\n",
       "      <td>170.0</td>\n",
       "      <td>59.0</td>\n",
       "      <td>24.0</td>\n",
       "      <td>12.0</td>\n",
       "      <td>12.0</td>\n",
       "      <td>185.0</td>\n",
       "      <td>Not low birthweight</td>\n",
       "      <td>Aged &lt; 35</td>\n",
       "      <td>2.0</td>\n",
       "    </tr>\n",
       "    <tr>\n",
       "      <th>21</th>\n",
       "      <td>1388.0</td>\n",
       "      <td>33.0</td>\n",
       "      <td>51.0</td>\n",
       "      <td>3.14</td>\n",
       "      <td>41.0</td>\n",
       "      <td>22.0</td>\n",
       "      <td>Smoker</td>\n",
       "      <td>160.0</td>\n",
       "      <td>53.0</td>\n",
       "      <td>24.0</td>\n",
       "      <td>16.0</td>\n",
       "      <td>12.0</td>\n",
       "      <td>176.0</td>\n",
       "      <td>Not low birthweight</td>\n",
       "      <td>Aged &lt; 35</td>\n",
       "      <td>7.0</td>\n",
       "    </tr>\n",
       "    <tr>\n",
       "      <th>22</th>\n",
       "      <td>575.0</td>\n",
       "      <td>30.0</td>\n",
       "      <td>50.0</td>\n",
       "      <td>2.78</td>\n",
       "      <td>37.0</td>\n",
       "      <td>19.0</td>\n",
       "      <td>Smoker</td>\n",
       "      <td>165.0</td>\n",
       "      <td>60.0</td>\n",
       "      <td>20.0</td>\n",
       "      <td>14.0</td>\n",
       "      <td>0.0</td>\n",
       "      <td>183.0</td>\n",
       "      <td>Not low birthweight</td>\n",
       "      <td>Aged &lt; 35</td>\n",
       "      <td>7.0</td>\n",
       "    </tr>\n",
       "    <tr>\n",
       "      <th>23</th>\n",
       "      <td>569.0</td>\n",
       "      <td>35.0</td>\n",
       "      <td>50.0</td>\n",
       "      <td>2.51</td>\n",
       "      <td>39.0</td>\n",
       "      <td>22.0</td>\n",
       "      <td>Smoker</td>\n",
       "      <td>159.0</td>\n",
       "      <td>52.0</td>\n",
       "      <td>23.0</td>\n",
       "      <td>14.0</td>\n",
       "      <td>25.0</td>\n",
       "      <td>200.0</td>\n",
       "      <td>Low birthweight</td>\n",
       "      <td>Aged &lt; 35</td>\n",
       "      <td>7.0</td>\n",
       "    </tr>\n",
       "    <tr>\n",
       "      <th>24</th>\n",
       "      <td>1363.0</td>\n",
       "      <td>30.0</td>\n",
       "      <td>48.0</td>\n",
       "      <td>2.37</td>\n",
       "      <td>37.0</td>\n",
       "      <td>20.0</td>\n",
       "      <td>Smoker</td>\n",
       "      <td>163.0</td>\n",
       "      <td>47.0</td>\n",
       "      <td>20.0</td>\n",
       "      <td>10.0</td>\n",
       "      <td>35.0</td>\n",
       "      <td>185.0</td>\n",
       "      <td>Low birthweight</td>\n",
       "      <td>Aged &lt; 35</td>\n",
       "      <td>7.0</td>\n",
       "    </tr>\n",
       "    <tr>\n",
       "      <th>25</th>\n",
       "      <td>300.0</td>\n",
       "      <td>32.0</td>\n",
       "      <td>46.0</td>\n",
       "      <td>2.05</td>\n",
       "      <td>35.0</td>\n",
       "      <td>41.0</td>\n",
       "      <td>Smoker</td>\n",
       "      <td>166.0</td>\n",
       "      <td>57.0</td>\n",
       "      <td>37.0</td>\n",
       "      <td>14.0</td>\n",
       "      <td>25.0</td>\n",
       "      <td>173.0</td>\n",
       "      <td>Low birthweight</td>\n",
       "      <td>Aged 35+</td>\n",
       "      <td>7.0</td>\n",
       "    </tr>\n",
       "    <tr>\n",
       "      <th>26</th>\n",
       "      <td>431.0</td>\n",
       "      <td>30.0</td>\n",
       "      <td>48.0</td>\n",
       "      <td>1.92</td>\n",
       "      <td>33.0</td>\n",
       "      <td>20.0</td>\n",
       "      <td>Smoker</td>\n",
       "      <td>161.0</td>\n",
       "      <td>50.0</td>\n",
       "      <td>20.0</td>\n",
       "      <td>10.0</td>\n",
       "      <td>35.0</td>\n",
       "      <td>180.0</td>\n",
       "      <td>Low birthweight</td>\n",
       "      <td>Aged &lt; 35</td>\n",
       "      <td>7.0</td>\n",
       "    </tr>\n",
       "    <tr>\n",
       "      <th>27</th>\n",
       "      <td>1764.0</td>\n",
       "      <td>39.0</td>\n",
       "      <td>58.0</td>\n",
       "      <td>4.57</td>\n",
       "      <td>41.0</td>\n",
       "      <td>32.0</td>\n",
       "      <td>Smoker</td>\n",
       "      <td>173.0</td>\n",
       "      <td>70.0</td>\n",
       "      <td>38.0</td>\n",
       "      <td>14.0</td>\n",
       "      <td>25.0</td>\n",
       "      <td>180.0</td>\n",
       "      <td>Not low birthweight</td>\n",
       "      <td>Aged &lt; 35</td>\n",
       "      <td>12.0</td>\n",
       "    </tr>\n",
       "    <tr>\n",
       "      <th>28</th>\n",
       "      <td>532.0</td>\n",
       "      <td>34.0</td>\n",
       "      <td>53.0</td>\n",
       "      <td>3.59</td>\n",
       "      <td>40.0</td>\n",
       "      <td>31.0</td>\n",
       "      <td>Smoker</td>\n",
       "      <td>163.0</td>\n",
       "      <td>49.0</td>\n",
       "      <td>41.0</td>\n",
       "      <td>12.0</td>\n",
       "      <td>50.0</td>\n",
       "      <td>191.0</td>\n",
       "      <td>Not low birthweight</td>\n",
       "      <td>Aged &lt; 35</td>\n",
       "      <td>12.0</td>\n",
       "    </tr>\n",
       "    <tr>\n",
       "      <th>29</th>\n",
       "      <td>752.0</td>\n",
       "      <td>36.0</td>\n",
       "      <td>49.0</td>\n",
       "      <td>3.32</td>\n",
       "      <td>40.0</td>\n",
       "      <td>27.0</td>\n",
       "      <td>Smoker</td>\n",
       "      <td>152.0</td>\n",
       "      <td>48.0</td>\n",
       "      <td>37.0</td>\n",
       "      <td>12.0</td>\n",
       "      <td>25.0</td>\n",
       "      <td>170.0</td>\n",
       "      <td>Not low birthweight</td>\n",
       "      <td>Aged &lt; 35</td>\n",
       "      <td>12.0</td>\n",
       "    </tr>\n",
       "    <tr>\n",
       "      <th>30</th>\n",
       "      <td>1023.0</td>\n",
       "      <td>35.0</td>\n",
       "      <td>52.0</td>\n",
       "      <td>3.00</td>\n",
       "      <td>38.0</td>\n",
       "      <td>30.0</td>\n",
       "      <td>Smoker</td>\n",
       "      <td>165.0</td>\n",
       "      <td>64.0</td>\n",
       "      <td>38.0</td>\n",
       "      <td>14.0</td>\n",
       "      <td>50.0</td>\n",
       "      <td>180.0</td>\n",
       "      <td>Not low birthweight</td>\n",
       "      <td>Aged &lt; 35</td>\n",
       "      <td>12.0</td>\n",
       "    </tr>\n",
       "    <tr>\n",
       "      <th>31</th>\n",
       "      <td>57.0</td>\n",
       "      <td>38.0</td>\n",
       "      <td>51.0</td>\n",
       "      <td>3.32</td>\n",
       "      <td>39.0</td>\n",
       "      <td>23.0</td>\n",
       "      <td>Smoker</td>\n",
       "      <td>157.0</td>\n",
       "      <td>48.0</td>\n",
       "      <td>32.0</td>\n",
       "      <td>12.0</td>\n",
       "      <td>25.0</td>\n",
       "      <td>169.0</td>\n",
       "      <td>Not low birthweight</td>\n",
       "      <td>Aged &lt; 35</td>\n",
       "      <td>17.0</td>\n",
       "    </tr>\n",
       "    <tr>\n",
       "      <th>32</th>\n",
       "      <td>1522.0</td>\n",
       "      <td>33.0</td>\n",
       "      <td>50.0</td>\n",
       "      <td>2.74</td>\n",
       "      <td>39.0</td>\n",
       "      <td>21.0</td>\n",
       "      <td>Smoker</td>\n",
       "      <td>156.0</td>\n",
       "      <td>53.0</td>\n",
       "      <td>24.0</td>\n",
       "      <td>12.0</td>\n",
       "      <td>7.0</td>\n",
       "      <td>179.0</td>\n",
       "      <td>Not low birthweight</td>\n",
       "      <td>Aged &lt; 35</td>\n",
       "      <td>17.0</td>\n",
       "    </tr>\n",
       "    <tr>\n",
       "      <th>33</th>\n",
       "      <td>223.0</td>\n",
       "      <td>33.0</td>\n",
       "      <td>50.0</td>\n",
       "      <td>3.87</td>\n",
       "      <td>45.0</td>\n",
       "      <td>28.0</td>\n",
       "      <td>Smoker</td>\n",
       "      <td>163.0</td>\n",
       "      <td>54.0</td>\n",
       "      <td>30.0</td>\n",
       "      <td>16.0</td>\n",
       "      <td>0.0</td>\n",
       "      <td>183.0</td>\n",
       "      <td>Not low birthweight</td>\n",
       "      <td>Aged &lt; 35</td>\n",
       "      <td>25.0</td>\n",
       "    </tr>\n",
       "    <tr>\n",
       "      <th>34</th>\n",
       "      <td>272.0</td>\n",
       "      <td>36.0</td>\n",
       "      <td>52.0</td>\n",
       "      <td>3.86</td>\n",
       "      <td>39.0</td>\n",
       "      <td>30.0</td>\n",
       "      <td>Smoker</td>\n",
       "      <td>170.0</td>\n",
       "      <td>78.0</td>\n",
       "      <td>40.0</td>\n",
       "      <td>16.0</td>\n",
       "      <td>50.0</td>\n",
       "      <td>178.0</td>\n",
       "      <td>Not low birthweight</td>\n",
       "      <td>Aged &lt; 35</td>\n",
       "      <td>25.0</td>\n",
       "    </tr>\n",
       "    <tr>\n",
       "      <th>35</th>\n",
       "      <td>27.0</td>\n",
       "      <td>37.0</td>\n",
       "      <td>53.0</td>\n",
       "      <td>3.55</td>\n",
       "      <td>41.0</td>\n",
       "      <td>37.0</td>\n",
       "      <td>Smoker</td>\n",
       "      <td>161.0</td>\n",
       "      <td>66.0</td>\n",
       "      <td>46.0</td>\n",
       "      <td>16.0</td>\n",
       "      <td>0.0</td>\n",
       "      <td>175.0</td>\n",
       "      <td>Not low birthweight</td>\n",
       "      <td>Aged 35+</td>\n",
       "      <td>25.0</td>\n",
       "    </tr>\n",
       "    <tr>\n",
       "      <th>36</th>\n",
       "      <td>365.0</td>\n",
       "      <td>37.0</td>\n",
       "      <td>52.0</td>\n",
       "      <td>3.53</td>\n",
       "      <td>40.0</td>\n",
       "      <td>26.0</td>\n",
       "      <td>Smoker</td>\n",
       "      <td>170.0</td>\n",
       "      <td>62.0</td>\n",
       "      <td>30.0</td>\n",
       "      <td>10.0</td>\n",
       "      <td>25.0</td>\n",
       "      <td>181.0</td>\n",
       "      <td>Not low birthweight</td>\n",
       "      <td>Aged &lt; 35</td>\n",
       "      <td>25.0</td>\n",
       "    </tr>\n",
       "    <tr>\n",
       "      <th>37</th>\n",
       "      <td>619.0</td>\n",
       "      <td>33.0</td>\n",
       "      <td>52.0</td>\n",
       "      <td>3.41</td>\n",
       "      <td>39.0</td>\n",
       "      <td>23.0</td>\n",
       "      <td>Smoker</td>\n",
       "      <td>181.0</td>\n",
       "      <td>69.0</td>\n",
       "      <td>23.0</td>\n",
       "      <td>16.0</td>\n",
       "      <td>2.0</td>\n",
       "      <td>181.0</td>\n",
       "      <td>Not low birthweight</td>\n",
       "      <td>Aged &lt; 35</td>\n",
       "      <td>25.0</td>\n",
       "    </tr>\n",
       "    <tr>\n",
       "      <th>38</th>\n",
       "      <td>1369.0</td>\n",
       "      <td>34.0</td>\n",
       "      <td>49.0</td>\n",
       "      <td>3.18</td>\n",
       "      <td>38.0</td>\n",
       "      <td>31.0</td>\n",
       "      <td>Smoker</td>\n",
       "      <td>162.0</td>\n",
       "      <td>57.0</td>\n",
       "      <td>32.0</td>\n",
       "      <td>16.0</td>\n",
       "      <td>50.0</td>\n",
       "      <td>194.0</td>\n",
       "      <td>Not low birthweight</td>\n",
       "      <td>Aged &lt; 35</td>\n",
       "      <td>25.0</td>\n",
       "    </tr>\n",
       "    <tr>\n",
       "      <th>39</th>\n",
       "      <td>1262.0</td>\n",
       "      <td>34.0</td>\n",
       "      <td>53.0</td>\n",
       "      <td>3.19</td>\n",
       "      <td>41.0</td>\n",
       "      <td>27.0</td>\n",
       "      <td>Smoker</td>\n",
       "      <td>163.0</td>\n",
       "      <td>51.0</td>\n",
       "      <td>31.0</td>\n",
       "      <td>16.0</td>\n",
       "      <td>25.0</td>\n",
       "      <td>185.0</td>\n",
       "      <td>Not low birthweight</td>\n",
       "      <td>Aged &lt; 35</td>\n",
       "      <td>35.0</td>\n",
       "    </tr>\n",
       "    <tr>\n",
       "      <th>40</th>\n",
       "      <td>516.0</td>\n",
       "      <td>33.0</td>\n",
       "      <td>47.0</td>\n",
       "      <td>2.66</td>\n",
       "      <td>35.0</td>\n",
       "      <td>20.0</td>\n",
       "      <td>Smoker</td>\n",
       "      <td>170.0</td>\n",
       "      <td>57.0</td>\n",
       "      <td>23.0</td>\n",
       "      <td>12.0</td>\n",
       "      <td>50.0</td>\n",
       "      <td>186.0</td>\n",
       "      <td>Low birthweight</td>\n",
       "      <td>Aged &lt; 35</td>\n",
       "      <td>35.0</td>\n",
       "    </tr>\n",
       "    <tr>\n",
       "      <th>41</th>\n",
       "      <td>1272.0</td>\n",
       "      <td>32.0</td>\n",
       "      <td>53.0</td>\n",
       "      <td>2.75</td>\n",
       "      <td>40.0</td>\n",
       "      <td>37.0</td>\n",
       "      <td>Smoker</td>\n",
       "      <td>168.0</td>\n",
       "      <td>61.0</td>\n",
       "      <td>31.0</td>\n",
       "      <td>16.0</td>\n",
       "      <td>0.0</td>\n",
       "      <td>173.0</td>\n",
       "      <td>Not low birthweight</td>\n",
       "      <td>Aged 35+</td>\n",
       "      <td>50.0</td>\n",
       "    </tr>\n",
       "  </tbody>\n",
       "</table>\n",
       "</div>"
      ],
      "text/plain": [
       "        ID  Headcirc  Length  Birthweight  Gestation  mage      smoker  \\\n",
       "0   1360.0      34.0    56.0         4.55       44.0  20.0  Non-smoker   \n",
       "1   1016.0      36.0    53.0         4.32       40.0  19.0  Non-smoker   \n",
       "2    462.0      39.0    58.0         4.10       41.0  35.0  Non-smoker   \n",
       "3   1187.0      38.0    53.0         4.07       44.0  20.0  Non-smoker   \n",
       "4    553.0      37.0    54.0         3.94       42.0  24.0  Non-smoker   \n",
       "5   1636.0      38.0    51.0         3.93       38.0  29.0  Non-smoker   \n",
       "6    820.0      34.0    52.0         3.77       40.0  24.0  Non-smoker   \n",
       "7   1191.0      33.0    53.0         3.65       42.0  21.0  Non-smoker   \n",
       "8   1081.0      38.0    54.0         3.63       38.0  18.0  Non-smoker   \n",
       "9    822.0      35.0    50.0         3.42       38.0  20.0  Non-smoker   \n",
       "10  1683.0      33.0    53.0         3.35       41.0  27.0  Non-smoker   \n",
       "11  1088.0      36.0    51.0         3.27       40.0  24.0  Non-smoker   \n",
       "12  1107.0      36.0    52.0         3.23       38.0  31.0  Non-smoker   \n",
       "13   755.0      33.0    53.0         3.20       41.0  21.0  Non-smoker   \n",
       "14  1058.0      34.0    53.0         3.15       40.0  29.0  Non-smoker   \n",
       "15   321.0      33.0    48.0         3.11       37.0  28.0  Non-smoker   \n",
       "16   697.0      35.0    48.0         3.03       39.0  27.0  Non-smoker   \n",
       "17   808.0      33.0    48.0         2.92       34.0  26.0  Non-smoker   \n",
       "18  1600.0      34.0    53.0         2.90       39.0  19.0  Non-smoker   \n",
       "19  1313.0      32.0    43.0         2.65       33.0  24.0  Non-smoker   \n",
       "20   792.0      38.0    53.0         3.64       40.0  20.0      Smoker   \n",
       "21  1388.0      33.0    51.0         3.14       41.0  22.0      Smoker   \n",
       "22   575.0      30.0    50.0         2.78       37.0  19.0      Smoker   \n",
       "23   569.0      35.0    50.0         2.51       39.0  22.0      Smoker   \n",
       "24  1363.0      30.0    48.0         2.37       37.0  20.0      Smoker   \n",
       "25   300.0      32.0    46.0         2.05       35.0  41.0      Smoker   \n",
       "26   431.0      30.0    48.0         1.92       33.0  20.0      Smoker   \n",
       "27  1764.0      39.0    58.0         4.57       41.0  32.0      Smoker   \n",
       "28   532.0      34.0    53.0         3.59       40.0  31.0      Smoker   \n",
       "29   752.0      36.0    49.0         3.32       40.0  27.0      Smoker   \n",
       "30  1023.0      35.0    52.0         3.00       38.0  30.0      Smoker   \n",
       "31    57.0      38.0    51.0         3.32       39.0  23.0      Smoker   \n",
       "32  1522.0      33.0    50.0         2.74       39.0  21.0      Smoker   \n",
       "33   223.0      33.0    50.0         3.87       45.0  28.0      Smoker   \n",
       "34   272.0      36.0    52.0         3.86       39.0  30.0      Smoker   \n",
       "35    27.0      37.0    53.0         3.55       41.0  37.0      Smoker   \n",
       "36   365.0      37.0    52.0         3.53       40.0  26.0      Smoker   \n",
       "37   619.0      33.0    52.0         3.41       39.0  23.0      Smoker   \n",
       "38  1369.0      34.0    49.0         3.18       38.0  31.0      Smoker   \n",
       "39  1262.0      34.0    53.0         3.19       41.0  27.0      Smoker   \n",
       "40   516.0      33.0    47.0         2.66       35.0  20.0      Smoker   \n",
       "41  1272.0      32.0    53.0         2.75       40.0  37.0      Smoker   \n",
       "\n",
       "    mheight  mppwt  fage  fedyrs  fnocig  fheight               lowbwt  \\\n",
       "0     162.0   57.0  23.0    10.0    35.0    179.0  Not low birthweight   \n",
       "1     171.0   62.0  19.0    12.0     0.0    183.0  Not low birthweight   \n",
       "2     172.0   58.0  31.0    16.0    25.0    185.0  Not low birthweight   \n",
       "3     174.0   68.0  26.0    14.0    25.0    189.0  Not low birthweight   \n",
       "4     175.0   66.0  30.0    12.0     0.0    184.0  Not low birthweight   \n",
       "5     165.0   61.0  31.0    16.0     0.0    180.0  Not low birthweight   \n",
       "6     157.0   50.0  31.0    16.0     0.0    173.0  Not low birthweight   \n",
       "7     165.0   61.0  21.0    10.0    25.0    185.0  Not low birthweight   \n",
       "8     172.0   50.0  20.0    12.0     7.0    172.0  Not low birthweight   \n",
       "9     157.0   48.0  22.0    14.0     0.0    179.0  Not low birthweight   \n",
       "10    164.0   62.0  37.0    14.0     0.0    170.0  Not low birthweight   \n",
       "11    168.0   53.0  29.0    16.0     0.0    181.0  Not low birthweight   \n",
       "12    164.0   57.0  35.0    16.0     0.0    183.0  Not low birthweight   \n",
       "13    155.0   55.0  25.0    14.0    25.0    183.0  Not low birthweight   \n",
       "14    167.0   60.0  30.0    16.0    25.0    182.0  Not low birthweight   \n",
       "15    158.0   54.0  39.0    10.0     0.0    171.0  Not low birthweight   \n",
       "16    162.0   62.0  27.0    14.0     0.0    178.0  Not low birthweight   \n",
       "17    167.0   64.0  25.0    12.0    25.0    175.0  Not low birthweight   \n",
       "18    165.0   57.0  23.0    14.0     2.0    193.0  Not low birthweight   \n",
       "19    149.0   45.0  26.0    16.0     0.0    169.0      Low birthweight   \n",
       "20    170.0   59.0  24.0    12.0    12.0    185.0  Not low birthweight   \n",
       "21    160.0   53.0  24.0    16.0    12.0    176.0  Not low birthweight   \n",
       "22    165.0   60.0  20.0    14.0     0.0    183.0  Not low birthweight   \n",
       "23    159.0   52.0  23.0    14.0    25.0    200.0      Low birthweight   \n",
       "24    163.0   47.0  20.0    10.0    35.0    185.0      Low birthweight   \n",
       "25    166.0   57.0  37.0    14.0    25.0    173.0      Low birthweight   \n",
       "26    161.0   50.0  20.0    10.0    35.0    180.0      Low birthweight   \n",
       "27    173.0   70.0  38.0    14.0    25.0    180.0  Not low birthweight   \n",
       "28    163.0   49.0  41.0    12.0    50.0    191.0  Not low birthweight   \n",
       "29    152.0   48.0  37.0    12.0    25.0    170.0  Not low birthweight   \n",
       "30    165.0   64.0  38.0    14.0    50.0    180.0  Not low birthweight   \n",
       "31    157.0   48.0  32.0    12.0    25.0    169.0  Not low birthweight   \n",
       "32    156.0   53.0  24.0    12.0     7.0    179.0  Not low birthweight   \n",
       "33    163.0   54.0  30.0    16.0     0.0    183.0  Not low birthweight   \n",
       "34    170.0   78.0  40.0    16.0    50.0    178.0  Not low birthweight   \n",
       "35    161.0   66.0  46.0    16.0     0.0    175.0  Not low birthweight   \n",
       "36    170.0   62.0  30.0    10.0    25.0    181.0  Not low birthweight   \n",
       "37    181.0   69.0  23.0    16.0     2.0    181.0  Not low birthweight   \n",
       "38    162.0   57.0  32.0    16.0    50.0    194.0  Not low birthweight   \n",
       "39    163.0   51.0  31.0    16.0    25.0    185.0  Not low birthweight   \n",
       "40    170.0   57.0  23.0    12.0    50.0    186.0      Low birthweight   \n",
       "41    168.0   61.0  31.0    16.0     0.0    173.0  Not low birthweight   \n",
       "\n",
       "       mage35  mnocig  \n",
       "0   Aged < 35     0.0  \n",
       "1   Aged < 35     0.0  \n",
       "2    Aged 35+     0.0  \n",
       "3   Aged < 35     0.0  \n",
       "4   Aged < 35     0.0  \n",
       "5   Aged < 35     0.0  \n",
       "6   Aged < 35     0.0  \n",
       "7   Aged < 35     0.0  \n",
       "8   Aged < 35     0.0  \n",
       "9   Aged < 35     0.0  \n",
       "10  Aged < 35     0.0  \n",
       "11  Aged < 35     0.0  \n",
       "12  Aged < 35     0.0  \n",
       "13  Aged < 35     0.0  \n",
       "14  Aged < 35     0.0  \n",
       "15  Aged < 35     0.0  \n",
       "16  Aged < 35     0.0  \n",
       "17  Aged < 35     0.0  \n",
       "18  Aged < 35     0.0  \n",
       "19  Aged < 35     0.0  \n",
       "20  Aged < 35     2.0  \n",
       "21  Aged < 35     7.0  \n",
       "22  Aged < 35     7.0  \n",
       "23  Aged < 35     7.0  \n",
       "24  Aged < 35     7.0  \n",
       "25   Aged 35+     7.0  \n",
       "26  Aged < 35     7.0  \n",
       "27  Aged < 35    12.0  \n",
       "28  Aged < 35    12.0  \n",
       "29  Aged < 35    12.0  \n",
       "30  Aged < 35    12.0  \n",
       "31  Aged < 35    17.0  \n",
       "32  Aged < 35    17.0  \n",
       "33  Aged < 35    25.0  \n",
       "34  Aged < 35    25.0  \n",
       "35   Aged 35+    25.0  \n",
       "36  Aged < 35    25.0  \n",
       "37  Aged < 35    25.0  \n",
       "38  Aged < 35    25.0  \n",
       "39  Aged < 35    35.0  \n",
       "40  Aged < 35    35.0  \n",
       "41   Aged 35+    50.0  "
      ]
     },
     "execution_count": 3,
     "metadata": {},
     "output_type": "execute_result"
    }
   ],
   "source": [
    "df"
   ]
  },
  {
   "cell_type": "code",
   "execution_count": 4,
   "id": "c74ed293",
   "metadata": {},
   "outputs": [],
   "source": [
    "df_ns = df[:20]\n",
    "df_s = df[20:]"
   ]
  },
  {
   "cell_type": "markdown",
   "id": "c98a02a3",
   "metadata": {},
   "source": [
    "### Q1. What is the mean birth weight for babies of non-smoking mothers?"
   ]
  },
  {
   "cell_type": "code",
   "execution_count": 5,
   "id": "e6fd85d8",
   "metadata": {},
   "outputs": [
    {
     "data": {
      "text/plain": [
       "3.5095000000000005"
      ]
     },
     "execution_count": 5,
     "metadata": {},
     "output_type": "execute_result"
    }
   ],
   "source": [
    "mean_weight_ns = df_ns['Birthweight'].mean()\n",
    "mean_weight_ns"
   ]
  },
  {
   "cell_type": "markdown",
   "id": "d8a5a788",
   "metadata": {},
   "source": [
    "### Q2. What is the mean birth weight for babies of smoking mothers?"
   ]
  },
  {
   "cell_type": "code",
   "execution_count": 6,
   "id": "801936f8",
   "metadata": {},
   "outputs": [
    {
     "data": {
      "text/plain": [
       "3.1340909090909093"
      ]
     },
     "execution_count": 6,
     "metadata": {},
     "output_type": "execute_result"
    }
   ],
   "source": [
    "mean_weight_s = df_s['Birthweight'].mean()\n",
    "mean_weight_s"
   ]
  },
  {
   "cell_type": "markdown",
   "id": "15fce989",
   "metadata": {},
   "source": [
    "### Q3. What is the mean head circumference for babies of non-smoking mothers?"
   ]
  },
  {
   "cell_type": "code",
   "execution_count": 7,
   "id": "c7c14cb2",
   "metadata": {},
   "outputs": [
    {
     "data": {
      "text/plain": [
       "35.05"
      ]
     },
     "execution_count": 7,
     "metadata": {},
     "output_type": "execute_result"
    }
   ],
   "source": [
    "mean_headcirc_ns = df_ns['Headcirc'].mean()\n",
    "mean_headcirc_ns"
   ]
  },
  {
   "cell_type": "markdown",
   "id": "e3efbcd9",
   "metadata": {},
   "source": [
    "### Q4. What is the mean gestational age at birth for babies of smoking mothers?"
   ]
  },
  {
   "cell_type": "code",
   "execution_count": 8,
   "id": "4898f157",
   "metadata": {},
   "outputs": [
    {
     "data": {
      "text/plain": [
       "38.95454545454545"
      ]
     },
     "execution_count": 8,
     "metadata": {},
     "output_type": "execute_result"
    }
   ],
   "source": [
    "mean_gest_s = df['Gestation'][20:].mean()\n",
    "mean_gest_s"
   ]
  },
  {
   "cell_type": "markdown",
   "id": "f534576c",
   "metadata": {},
   "source": [
    "### Q5. What is the maximum head circumference for babies of non-smoking mothers?"
   ]
  },
  {
   "cell_type": "code",
   "execution_count": 9,
   "id": "7d146a35",
   "metadata": {},
   "outputs": [
    {
     "data": {
      "text/plain": [
       "39.0"
      ]
     },
     "execution_count": 9,
     "metadata": {},
     "output_type": "execute_result"
    }
   ],
   "source": [
    "max_headcirc_ns = df_ns['Headcirc'].max()\n",
    "max_headcirc_ns"
   ]
  },
  {
   "cell_type": "markdown",
   "id": "55431343",
   "metadata": {},
   "source": [
    "### Q6. What is the minimum gestational age at birth for babies of smoking mothers?"
   ]
  },
  {
   "cell_type": "code",
   "execution_count": 10,
   "id": "6ba51338",
   "metadata": {},
   "outputs": [
    {
     "data": {
      "text/plain": [
       "33.0"
      ]
     },
     "execution_count": 10,
     "metadata": {},
     "output_type": "execute_result"
    }
   ],
   "source": [
    "min_gest_s = df_s['Gestation'].min()\n",
    "min_gest_s"
   ]
  },
  {
   "cell_type": "markdown",
   "id": "99d8263e",
   "metadata": {},
   "source": [
    "### Q7. Based on the dataset you have, out of the two, which one would be a better bet:"
   ]
  },
  {
   "cell_type": "markdown",
   "id": "ae2ddf14",
   "metadata": {},
   "source": [
    "●\tPregnancy period in smoking mothers is shorter\n",
    "\n",
    "●\tPregnancy period in non-smoking mothers is shorter"
   ]
  },
  {
   "cell_type": "markdown",
   "id": "13590896",
   "metadata": {},
   "source": [
    "Pregnancy period in smoking mother's is shorter"
   ]
  },
  {
   "cell_type": "markdown",
   "id": "4e3fb813",
   "metadata": {},
   "source": [
    "### Q8. Justify the above choice in a few words."
   ]
  },
  {
   "cell_type": "code",
   "execution_count": 11,
   "id": "7f3b58aa",
   "metadata": {},
   "outputs": [
    {
     "data": {
      "text/plain": [
       "39.45"
      ]
     },
     "execution_count": 11,
     "metadata": {},
     "output_type": "execute_result"
    }
   ],
   "source": [
    "mean_gest_ns = df_ns['Gestation'].mean()\n",
    "mean_gest_ns"
   ]
  },
  {
   "cell_type": "code",
   "execution_count": 12,
   "id": "f32b8db0",
   "metadata": {},
   "outputs": [
    {
     "data": {
      "text/plain": [
       "38.95454545454545"
      ]
     },
     "execution_count": 12,
     "metadata": {},
     "output_type": "execute_result"
    }
   ],
   "source": [
    "mean_gest_s = df_s['Gestation'].mean()\n",
    "mean_gest_s"
   ]
  },
  {
   "cell_type": "code",
   "execution_count": 13,
   "id": "6442a02c",
   "metadata": {},
   "outputs": [
    {
     "data": {
      "text/plain": [
       "<matplotlib.legend.Legend at 0x19b47f79788>"
      ]
     },
     "execution_count": 13,
     "metadata": {},
     "output_type": "execute_result"
    },
    {
     "data": {
      "image/png": "[encoded data removed]",
      "text/plain": [
       "<Figure size 1080x648 with 1 Axes>"
      ]
     },
     "metadata": {
      "needs_background": "light"
     },
     "output_type": "display_data"
    }
   ],
   "source": [
    "fig, axes = plt.subplots(1,1)\n",
    "df_ns.hist(['Gestation'], label = 'Non-Smoker', ax = axes)\n",
    "df_s.hist(['Gestation'], label = 'Smoker', ax = axes, color='r', alpha=0.5)\n",
    "fig.legend()"
   ]
  },
  {
   "cell_type": "markdown",
   "id": "dc77e6cf",
   "metadata": {},
   "source": [
    "\tMean smoker = 38.95\n",
    "\tMean non-smoker = 39.45\n",
    "\tSmoker’s also have more frequency of gestation below the mean\n"
   ]
  },
  {
   "cell_type": "markdown",
   "id": "f83615d5",
   "metadata": {},
   "source": [
    "### Q9. What is the baby birth weight range for babies of smoking mothers?"
   ]
  },
  {
   "cell_type": "code",
   "execution_count": 14,
   "id": "feffdc06",
   "metadata": {},
   "outputs": [
    {
     "name": "stdout",
     "output_type": "stream",
     "text": [
      "[4.57, 1.92] 2.6500000000000004\n"
     ]
    }
   ],
   "source": [
    "range_weight_s = [df_s['Birthweight'].max(), df_s['Birthweight'].min()]\n",
    "print(range_weight_s, range_weight_s[0]-range_weight_s[1])"
   ]
  },
  {
   "cell_type": "markdown",
   "id": "217d11fa",
   "metadata": {},
   "source": [
    "### Q10. In your own words describe what the value of the above range for baby's birthweight tells us about smoking versus non-smoking mothers?"
   ]
  },
  {
   "cell_type": "markdown",
   "id": "0595c0d7",
   "metadata": {},
   "source": [
    "The above value alone tells us noting about smoking versus non-smoking mothers. However, if we combine this figure with the range of values for non-smoking mother’s we see that the range is higher for smoking mothers."
   ]
  },
  {
   "cell_type": "code",
   "execution_count": 15,
   "id": "95d62854",
   "metadata": {},
   "outputs": [
    {
     "name": "stdout",
     "output_type": "stream",
     "text": [
      "[4.55, 2.65] 1.9\n"
     ]
    }
   ],
   "source": [
    "range_weight_ns = [df_ns['Birthweight'].max(), df_ns['Birthweight'].min()]\n",
    "print(range_weight_ns, range_weight_ns[0]-range_weight_ns[1])"
   ]
  },
  {
   "cell_type": "markdown",
   "id": "4c7b0872",
   "metadata": {},
   "source": [
    "### Q11. Are head circumference data for babies of smoking mothers normally distributed?"
   ]
  },
  {
   "cell_type": "code",
   "execution_count": 16,
   "id": "9de8af9b",
   "metadata": {
    "scrolled": false
   },
   "outputs": [
    {
     "data": {
      "image/png": "[encoded data removed]",
      "text/plain": [
       "<Figure size 1080x648 with 1 Axes>"
      ]
     },
     "metadata": {
      "needs_background": "light"
     },
     "output_type": "display_data"
    }
   ],
   "source": [
    "df_s['Headcirc'].hist()\n",
    "plt.axvline(x = df_s['Headcirc'].mean(), color = 'r' ,label='mean')\n",
    "plt.legend();"
   ]
  },
  {
   "cell_type": "markdown",
   "id": "28b62849",
   "metadata": {},
   "source": [
    "positively skewed"
   ]
  },
  {
   "cell_type": "markdown",
   "id": "457a2e54",
   "metadata": {},
   "source": [
    "### Q12. What is the significance value for the above on the Shapiro-Wilk test?"
   ]
  },
  {
   "cell_type": "code",
   "execution_count": 17,
   "id": "8b42d90b",
   "metadata": {},
   "outputs": [
    {
     "data": {
      "text/plain": [
       "ShapiroResult(statistic=0.9536522030830383, pvalue=0.3723842203617096)"
      ]
     },
     "execution_count": 17,
     "metadata": {},
     "output_type": "execute_result"
    }
   ],
   "source": [
    "shap12 = sc.stats.shapiro(df_s['Headcirc'])\n",
    "shap12"
   ]
  },
  {
   "cell_type": "markdown",
   "id": "ca967d61",
   "metadata": {},
   "source": [
    "### Q13. What is the standard score (Z-score) for head circumference of 35.05 (X=35.05) in non-smoking mothers?"
   ]
  },
  {
   "cell_type": "code",
   "execution_count": 18,
   "id": "1d7401d3",
   "metadata": {},
   "outputs": [
    {
     "data": {
      "text/plain": [
       "0.0"
      ]
     },
     "execution_count": 18,
     "metadata": {},
     "output_type": "execute_result"
    }
   ],
   "source": [
    "z_score_headcirc = (35.05 - df_ns['Headcirc'].mean())/df_ns['Headcirc'].std()\n",
    "z_score_headcirc"
   ]
  },
  {
   "cell_type": "markdown",
   "id": "4682ddb9",
   "metadata": {},
   "source": [
    "35.05 is the mean so z-score=0"
   ]
  },
  {
   "cell_type": "markdown",
   "id": "a96f1ea7",
   "metadata": {},
   "source": [
    "### Q14. How are birth weight data of non-smoking mothers skewed?"
   ]
  },
  {
   "cell_type": "code",
   "execution_count": 19,
   "id": "3b90db0e",
   "metadata": {
    "scrolled": false
   },
   "outputs": [
    {
     "data": {
      "image/png": "[encoded data removed]",
      "text/plain": [
       "<Figure size 1080x648 with 1 Axes>"
      ]
     },
     "metadata": {
      "needs_background": "light"
     },
     "output_type": "display_data"
    }
   ],
   "source": [
    "df_ns['Birthweight'].hist()\n",
    "plt.axvline(x = df_ns['Birthweight'].mean(), color = 'r' ,label='mean')\n",
    "plt.legend();"
   ]
  },
  {
   "cell_type": "markdown",
   "id": "8b9dfb8b",
   "metadata": {},
   "source": [
    "positively-skewed"
   ]
  },
  {
   "cell_type": "code",
   "execution_count": 20,
   "id": "896531f3",
   "metadata": {},
   "outputs": [
    {
     "name": "stdout",
     "output_type": "stream",
     "text": [
      "z-score = 0.6962055563926697 ... is normally distributed\n"
     ]
    }
   ],
   "source": [
    "shap14 = sc.stats.shapiro(df_ns['Birthweight'])\n",
    "print('z-score =', shap14[1], '... is normally distributed')"
   ]
  },
  {
   "cell_type": "markdown",
   "id": "85033356",
   "metadata": {},
   "source": [
    "### Q15. Are birth weight data for babies of smoking mothers normally distributed?"
   ]
  },
  {
   "cell_type": "code",
   "execution_count": 21,
   "id": "42af91e2",
   "metadata": {
    "scrolled": false
   },
   "outputs": [
    {
     "data": {
      "image/png": "[encoded data removed]",
      "text/plain": [
       "<Figure size 1080x648 with 1 Axes>"
      ]
     },
     "metadata": {
      "needs_background": "light"
     },
     "output_type": "display_data"
    }
   ],
   "source": [
    "df_s['Birthweight'].hist()\n",
    "plt.axvline(x = df_s['Birthweight'].mean(), color = 'r', label='mean')\n",
    "plt.legend();"
   ]
  },
  {
   "cell_type": "code",
   "execution_count": 22,
   "id": "e7a2cbfd",
   "metadata": {},
   "outputs": [
    {
     "name": "stdout",
     "output_type": "stream",
     "text": [
      "z-score = 0.9494719505310059 ... is normally distributed\n"
     ]
    }
   ],
   "source": [
    "shap15 = sc.stats.shapiro(df_s['Birthweight'])\n",
    "print('z-score =', shap15[1], '... is normally distributed')"
   ]
  },
  {
   "cell_type": "markdown",
   "id": "58077964",
   "metadata": {},
   "source": [
    "### Q16. What is the significance value for the above on the Shapiro-Wilk test?"
   ]
  },
  {
   "cell_type": "code",
   "execution_count": 23,
   "id": "2c247009",
   "metadata": {},
   "outputs": [
    {
     "data": {
      "text/plain": [
       "ShapiroResult(statistic=0.9824167490005493, pvalue=0.9494719505310059)"
      ]
     },
     "execution_count": 23,
     "metadata": {},
     "output_type": "execute_result"
    }
   ],
   "source": [
    "shap16 = sc.stats.shapiro(df_s['Birthweight'])\n",
    "shap16"
   ]
  },
  {
   "cell_type": "markdown",
   "id": "f37c7a1a",
   "metadata": {},
   "source": [
    "### Q17. Based on the dataset you have, how confident can you be in saying that a baby's birth weight will be +/- 1 standard deviation from the mean?"
   ]
  },
  {
   "cell_type": "markdown",
   "id": "7d276945",
   "metadata": {},
   "source": [
    "68% - Central Limit Theorem"
   ]
  },
  {
   "cell_type": "markdown",
   "id": "61b86716",
   "metadata": {},
   "source": [
    "### Q18. Based on the dataset you have, what is the probability that the birth weight for a baby of a smoking mother will be less than 4.2 kg?"
   ]
  },
  {
   "cell_type": "code",
   "execution_count": 24,
   "id": "19ca353a",
   "metadata": {},
   "outputs": [
    {
     "data": {
      "text/plain": [
       "1.688576524332701"
      ]
     },
     "execution_count": 24,
     "metadata": {},
     "output_type": "execute_result"
    }
   ],
   "source": [
    "z_score42 = ((4.2 -df_s['Birthweight'].mean()))/df_s['Birthweight'].std()\n",
    "z_score42"
   ]
  },
  {
   "cell_type": "markdown",
   "id": "5fed9989",
   "metadata": {},
   "source": [
    "z-score of 1.69 gives probability of 0.095449"
   ]
  },
  {
   "cell_type": "code",
   "execution_count": 25,
   "id": "b7d412ef",
   "metadata": {},
   "outputs": [
    {
     "data": {
      "text/plain": [
       "3.1340909090909093"
      ]
     },
     "execution_count": 25,
     "metadata": {},
     "output_type": "execute_result"
    }
   ],
   "source": [
    "df_s['Birthweight'].mean()"
   ]
  },
  {
   "cell_type": "code",
   "execution_count": 26,
   "id": "e7ddb25c",
   "metadata": {},
   "outputs": [
    {
     "data": {
      "text/plain": [
       "0.631247133635428"
      ]
     },
     "execution_count": 26,
     "metadata": {},
     "output_type": "execute_result"
    }
   ],
   "source": [
    "df_s['Birthweight'].std()"
   ]
  },
  {
   "cell_type": "code",
   "execution_count": 27,
   "id": "dd95abb5",
   "metadata": {},
   "outputs": [
    {
     "data": {
      "text/plain": [
       "<matplotlib.lines.Line2D at 0x19b487cde88>"
      ]
     },
     "execution_count": 27,
     "metadata": {},
     "output_type": "execute_result"
    },
    {
     "data": {
      "image/png": "[encoded data removed]",
      "text/plain": [
       "<Figure size 1080x648 with 1 Axes>"
      ]
     },
     "metadata": {
      "needs_background": "light"
     },
     "output_type": "display_data"
    }
   ],
   "source": [
    "df_s['Birthweight'].hist()\n",
    "plt.axvline(x = 4.2, color='r')"
   ]
  },
  {
   "cell_type": "markdown",
   "id": "8034d381",
   "metadata": {},
   "source": [
    "### Q19. Are data for length of baby of non-smoking mothers normally distributed?"
   ]
  },
  {
   "cell_type": "code",
   "execution_count": 28,
   "id": "14f88e0f",
   "metadata": {},
   "outputs": [
    {
     "data": {
      "image/png": "[encoded data removed]",
      "text/plain": [
       "<Figure size 1080x648 with 1 Axes>"
      ]
     },
     "metadata": {
      "needs_background": "light"
     },
     "output_type": "display_data"
    }
   ],
   "source": [
    "df_ns['Length'].hist()\n",
    "plt.axvline(x=df_ns['Length'].mean(), color = 'r', label='mean')\n",
    "plt.legend();"
   ]
  },
  {
   "cell_type": "code",
   "execution_count": 29,
   "id": "85adbb62",
   "metadata": {},
   "outputs": [
    {
     "name": "stdout",
     "output_type": "stream",
     "text": [
      "z-score = 0.07037191092967987 ... is normally distributed\n"
     ]
    }
   ],
   "source": [
    "shap19 = sc.stats.shapiro(df_ns['Length'])\n",
    "print('z-score =', shap19[1], '... is normally distributed')"
   ]
  },
  {
   "cell_type": "markdown",
   "id": "c1812646",
   "metadata": {},
   "source": [
    "Yes, pvalue > 0.05"
   ]
  },
  {
   "cell_type": "markdown",
   "id": "9fb8f9ff",
   "metadata": {},
   "source": [
    "### Q20. What is the significance value for the above on the Shapiro-Wilk test?"
   ]
  },
  {
   "cell_type": "code",
   "execution_count": 30,
   "id": "c3aaf813",
   "metadata": {},
   "outputs": [
    {
     "data": {
      "text/plain": [
       "0.07037191092967987"
      ]
     },
     "execution_count": 30,
     "metadata": {},
     "output_type": "execute_result"
    }
   ],
   "source": [
    "shap19[1]"
   ]
  },
  {
   "cell_type": "markdown",
   "id": "5d84516f",
   "metadata": {},
   "source": [
    "### Q21. What is the standard score for the length of a baby of 48.5cm for non-smoking mothers?"
   ]
  },
  {
   "cell_type": "code",
   "execution_count": 31,
   "id": "30dc9e40",
   "metadata": {},
   "outputs": [
    {
     "data": {
      "text/plain": [
       "-1.0140905884929503"
      ]
     },
     "execution_count": 31,
     "metadata": {},
     "output_type": "execute_result"
    }
   ],
   "source": [
    "z_score_length = (48.5 - df_ns['Length'].mean())/df_ns['Length'].std()\n",
    "z_score_length"
   ]
  },
  {
   "cell_type": "markdown",
   "id": "9098889b",
   "metadata": {},
   "source": [
    "### Q22. Based on the dataset you have, what is the probability that the length of baby for non-smoking mothers will be more than 55 cm?"
   ]
  },
  {
   "cell_type": "code",
   "execution_count": 32,
   "id": "5e263ccb",
   "metadata": {},
   "outputs": [
    {
     "data": {
      "text/plain": [
       "0.9833605706598322"
      ]
     },
     "execution_count": 32,
     "metadata": {},
     "output_type": "execute_result"
    }
   ],
   "source": [
    "z_score_55 = (55 - df_ns['Length'].mean())/df_ns['Length'].std()\n",
    "z_score_55"
   ]
  },
  {
   "cell_type": "code",
   "execution_count": 33,
   "id": "cfddaae5",
   "metadata": {},
   "outputs": [
    {
     "data": {
      "text/plain": [
       "0.16354000000000002"
      ]
     },
     "execution_count": 33,
     "metadata": {},
     "output_type": "execute_result"
    }
   ],
   "source": [
    "1-0.83646"
   ]
  },
  {
   "cell_type": "code",
   "execution_count": 34,
   "id": "c4181055",
   "metadata": {},
   "outputs": [
    {
     "data": {
      "text/plain": [
       "<matplotlib.lines.Line2D at 0x19b48df3488>"
      ]
     },
     "execution_count": 34,
     "metadata": {},
     "output_type": "execute_result"
    },
    {
     "data": {
      "image/png": "[encoded data removed]",
      "text/plain": [
       "<Figure size 1080x648 with 1 Axes>"
      ]
     },
     "metadata": {
      "needs_background": "light"
     },
     "output_type": "display_data"
    }
   ],
   "source": [
    "df_ns['Length'].hist()\n",
    "plt.axvline(x=55, color='r')"
   ]
  }
 ],
 "metadata": {
  "kernelspec": {
   "display_name": "Python 3",
   "language": "python",
   "name": "python3"
  },
  "language_info": {
   "codemirror_mode": {
    "name": "ipython",
    "version": 3
   },
   "file_extension": ".py",
   "mimetype": "text/x-python",
   "name": "python",
   "nbconvert_exporter": "python",
   "pygments_lexer": "ipython3",
   "version": "3.7.16"
  }
 },
 "nbformat": 4,
 "nbformat_minor": 5
}
